{
 "metadata": {
  "language_info": {
   "codemirror_mode": {
    "name": "ipython",
    "version": 3
   },
   "file_extension": ".py",
   "mimetype": "text/x-python",
   "name": "python",
   "nbconvert_exporter": "python",
   "pygments_lexer": "ipython3",
   "version": "3.8.5-final"
  },
  "orig_nbformat": 2,
  "kernelspec": {
   "name": "python_defaultSpec_1598730435398",
   "display_name": "Python 3.8.5 64-bit"
  }
 },
 "nbformat": 4,
 "nbformat_minor": 2,
 "cells": [
  {
   "cell_type": "markdown",
   "metadata": {},
   "source": [
    "# Dictionaries\n",
    "   - Key value pairs \n",
    "   - Unordered \n",
    "   - Mutable"
   ]
  },
  {
   "cell_type": "markdown",
   "metadata": {},
   "source": [
    "### Initialization"
   ]
  },
  {
   "cell_type": "code",
   "execution_count": 24,
   "metadata": {
    "tags": []
   },
   "outputs": [
    {
     "output_type": "stream",
     "name": "stdout",
     "text": "{'name': 'Vikhyat', 'age': 28, 'city': 'Hyderabad'}\n"
    }
   ],
   "source": [
    "mydict = {\"name\" : \"Vikhyat\" , \"age\" : 28 , \"city\" : \"Hyderabad\"}\n",
    "print(mydict)"
   ]
  },
  {
   "cell_type": "code",
   "execution_count": 25,
   "metadata": {
    "tags": []
   },
   "outputs": [
    {
     "output_type": "stream",
     "name": "stdout",
     "text": "{'name': 'Tom', 'age': 89, 'city': 'Dallas'}\n"
    }
   ],
   "source": [
    "mydict2 = dict(name=\"Tom\" , age =89 , city = \"Dallas\")\n",
    "print(mydict2)"
   ]
  },
  {
   "cell_type": "markdown",
   "metadata": {},
   "source": [
    "### Accessing values\n"
   ]
  },
  {
   "cell_type": "code",
   "execution_count": 26,
   "metadata": {
    "tags": []
   },
   "outputs": [
    {
     "output_type": "stream",
     "name": "stdout",
     "text": "28\n"
    }
   ],
   "source": [
    "age = mydict['age']\n",
    "print(age)"
   ]
  },
  {
   "cell_type": "code",
   "execution_count": 27,
   "metadata": {
    "tags": []
   },
   "outputs": [
    {
     "output_type": "stream",
     "name": "stdout",
     "text": "{'name': 'Vikhyat', 'age': 28, 'city': 'Hyderabad', 'email': 'vik.prab@gmail.com'}\n"
    }
   ],
   "source": [
    "mydict['email']= 'vik.prab@gmail.com'\n",
    "print(mydict)"
   ]
  },
  {
   "cell_type": "markdown",
   "metadata": {},
   "source": [
    "### Deleting\n"
   ]
  },
  {
   "cell_type": "code",
   "execution_count": 28,
   "metadata": {
    "tags": []
   },
   "outputs": [
    {
     "output_type": "stream",
     "name": "stdout",
     "text": "{'age': 89, 'city': 'Dallas'}\n"
    }
   ],
   "source": [
    "del(mydict2['name'])\n",
    "print(mydict2)"
   ]
  },
  {
   "cell_type": "code",
   "execution_count": 29,
   "metadata": {
    "tags": []
   },
   "outputs": [
    {
     "output_type": "stream",
     "name": "stdout",
     "text": "{'name': 'Vikhyat', 'age': 28, 'city': 'Hyderabad'}\n"
    }
   ],
   "source": [
    "mydict.pop('email')\n",
    "print(mydict)"
   ]
  },
  {
   "cell_type": "code",
   "execution_count": 30,
   "metadata": {
    "tags": []
   },
   "outputs": [
    {
     "output_type": "stream",
     "name": "stdout",
     "text": "{'age': 89}\n"
    }
   ],
   "source": [
    "mydict2.popitem()\n",
    "print(mydict2)"
   ]
  },
  {
   "cell_type": "markdown",
   "metadata": {},
   "source": [
    "### CHecking for keys\n"
   ]
  },
  {
   "cell_type": "code",
   "execution_count": 31,
   "metadata": {
    "tags": []
   },
   "outputs": [
    {
     "output_type": "stream",
     "name": "stdout",
     "text": "Vikhyat\n"
    }
   ],
   "source": [
    "if \"name\" in mydict:\n",
    "    print(mydict['name'])"
   ]
  },
  {
   "cell_type": "markdown",
   "metadata": {},
   "source": [
    "### Looping\n"
   ]
  },
  {
   "cell_type": "code",
   "execution_count": 34,
   "metadata": {
    "tags": []
   },
   "outputs": [
    {
     "output_type": "stream",
     "name": "stdout",
     "text": "##### Keys ########\nname\nage\ncity\nname\nage\ncity\n##### Values ########\nVikhyat\n28\nHyderabad\n##### Key , Value ########\nname Vikhyat\nage 28\ncity Hyderabad\n"
    }
   ],
   "source": [
    "print(\"##### Keys ########\")\n",
    "for key in mydict:\n",
    "    print(key)\n",
    "\n",
    "for key in mydict.keys():\n",
    "    print(key)\n",
    "\n",
    "print(\"##### Values ########\")\n",
    "for value in mydict.values():\n",
    "    print(value)\n",
    "\n",
    "print(\"##### Key , Value ########\")\n",
    "for key, value in mydict.items():\n",
    "    print(key , value)"
   ]
  },
  {
   "cell_type": "markdown",
   "metadata": {},
   "source": [
    "### Copying "
   ]
  },
  {
   "cell_type": "code",
   "execution_count": 35,
   "metadata": {
    "tags": []
   },
   "outputs": [
    {
     "output_type": "stream",
     "name": "stdout",
     "text": "{'name': 'Vikhyat', 'age': 28, 'city': 'Hyderabad'}\n"
    }
   ],
   "source": [
    "mydict_cpy = dict(mydict)\n",
    "print(mydict_cpy)\n",
    "mydict_cpy2 = mydict.copy()"
   ]
  },
  {
   "cell_type": "markdown",
   "metadata": {},
   "source": [
    "### Merging"
   ]
  },
  {
   "cell_type": "code",
   "execution_count": 37,
   "metadata": {
    "tags": []
   },
   "outputs": [
    {
     "output_type": "stream",
     "name": "stdout",
     "text": "{'name': 'Tom', 'age': 27, 'email': 'abc@xyz.com', 'city': 'Nebraska'}\n"
    }
   ],
   "source": [
    "first = {'name': 'Vikhyat', 'age': 28, 'email': 'abc@xyz.com'}\n",
    "second = dict( name = \"Tom\" , age = 27 , city = \"Nebraska\")\n",
    "first.update(second)\n",
    "print(first)"
   ]
  },
  {
   "cell_type": "code",
   "execution_count": 41,
   "metadata": {
    "tags": []
   },
   "outputs": [
    {
     "output_type": "stream",
     "name": "stdout",
     "text": "{(1, 2): 3}\n3\n"
    }
   ],
   "source": [
    "# Tuple as key\n",
    "mytuple = (1, 2)\n",
    "tupdict = {mytuple : 3}\n",
    "print(tupdict)\n",
    "print(tupdict[(1, 2)])"
   ]
  },
  {
   "cell_type": "code",
   "execution_count": null,
   "metadata": {},
   "outputs": [],
   "source": []
  }
 ]
}